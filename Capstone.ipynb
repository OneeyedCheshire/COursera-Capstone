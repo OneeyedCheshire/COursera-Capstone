{
  "nbformat": 4,
  "nbformat_minor": 0,
  "metadata": {
    "colab": {
      "name": "Capstone.ipynb",
      "version": "0.3.2",
      "provenance": []
    },
    "kernelspec": {
      "name": "python3",
      "display_name": "Python 3"
    }
  },
  "cells": [
    {
      "metadata": {
        "id": "rinnBIZvgsAW",
        "colab_type": "code",
        "outputId": "ff91e224-68ae-4723-fb41-8cc55a7ae9f0",
        "colab": {
          "base_uri": "https://localhost:8080/",
          "height": 35
        }
      },
      "cell_type": "code",
      "source": [
        "# This notebook will be used mainly for the \n",
        "# capstone project for IBM Data Science Professional Certificate\n",
        "import pandas as pd\n",
        "import numpy as np\n",
        "print ('Hello Capstone Project Course!')"
      ],
      "execution_count": 0,
      "outputs": [
        {
          "output_type": "stream",
          "text": [
            "Hello Capstone Project Course!\n"
          ],
          "name": "stdout"
        }
      ]
    }
  ]
}