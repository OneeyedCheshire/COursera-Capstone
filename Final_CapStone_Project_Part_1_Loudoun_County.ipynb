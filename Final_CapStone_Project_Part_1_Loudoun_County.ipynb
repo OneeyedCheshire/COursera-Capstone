{
  "nbformat": 4,
  "nbformat_minor": 0,
  "metadata": {
    "colab": {
      "name": "Final CapStone Project Part 1 - Loudoun County.ipynb",
      "version": "0.3.2",
      "provenance": [],
      "collapsed_sections": [],
      "include_colab_link": true
    },
    "kernelspec": {
      "name": "python3",
      "display_name": "Python 3"
    }
  },
  "cells": [
    {
      "cell_type": "markdown",
      "metadata": {
        "id": "view-in-github",
        "colab_type": "text"
      },
      "source": [
        "<a href=\"https://colab.research.google.com/github/OneeyedCheshire/COursera-Capstone/blob/master/Final_CapStone_Project_Part_1_Loudoun_County.ipynb\" target=\"_parent\"><img src=\"https://colab.research.google.com/assets/colab-badge.svg\" alt=\"Open In Colab\"/></a>"
      ]
    },
    {
      "metadata": {
        "id": "3my8tDFPJyGI",
        "colab_type": "code",
        "colab": {}
      },
      "cell_type": "code",
      "source": [
        ""
      ],
      "execution_count": 0,
      "outputs": []
    },
    {
      "metadata": {
        "id": "O6FXWe2sJ1xb",
        "colab_type": "text"
      },
      "cell_type": "markdown",
      "source": [
        "\n",
        "Loudoun County is seated roughly 25 miles due west of Washington DC. It is the fastest growing county as well as the richest county per capita household income in the United States at $130,000.  It is also where 80% of all internet traffic in the world flows.  It seems like every week a new data center is being added to Loudoun County. By 2020, Apple, and Amazon will have second headquarters here in the area. It is the third most populous county in the state of Virginia and is a bedroom community for business moguls, diplomats, and politicians.  It is also known for its rich history and farmlands which have been slowly converting into vineyards and breweries that draw crowds from all over the National Capital Area.  \n",
        "The objective of this Capstone project is to use Foursquare location data and regional clustering of venue information to determine what might be the “best” place in Loudoun County to open a restaurant. What makes this so challenging is that there is no shortage of restaurants offering every type of the worlds culinary cuisine.  From Mexican to Chinese, and Russian to Middle Eastern, the offerings are seemingly endless, thus competition, is high.  Also, Loudoun County commands huge rent costs due to the overwhelmingly expensive cost of land and development.  Therefore, the objective is to find a location that is in a reasonable rent area and a population dense area, be it residential or commercial."
      ]
    },
    {
      "metadata": {
        "id": "_U0i9DGKJ3ag",
        "colab_type": "text"
      },
      "cell_type": "markdown",
      "source": [
        "I will utilize data from Wikipedia regarding Loudoun County as well as Foursquare for this analysis.  I will need to scrape the data, clean the data, and run analysis on the data.  First I will have to determine the most likely neighborhoods based on mean rent prices and population density. I will then consider the total number of venues and additional criteria to make a final determination. "
      ]
    }
  ]
}